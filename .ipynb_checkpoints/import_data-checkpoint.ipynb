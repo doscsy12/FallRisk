{
 "cells": [
  {
   "cell_type": "markdown",
   "id": "6d3b6ee7",
   "metadata": {},
   "source": [
    "# Falling risk\n",
    "\n"
   ]
  },
  {
   "cell_type": "markdown",
   "id": "c280585b",
   "metadata": {},
   "source": [
    "*import libraries*"
   ]
  },
  {
   "cell_type": "code",
   "execution_count": 1,
   "id": "c6a5c1d1",
   "metadata": {},
   "outputs": [],
   "source": [
    "import pandas as pd\n",
    "import numpy as np\n",
    "\n",
    "import seaborn as sns\n",
    "import matplotlib.pyplot as plt\n",
    "%matplotlib inline\n"
   ]
  },
  {
   "cell_type": "code",
   "execution_count": 2,
   "id": "0e5f66b7",
   "metadata": {},
   "outputs": [],
   "source": [
    "import warnings\n",
    "warnings.filterwarnings(\"ignore\")"
   ]
  },
  {
   "cell_type": "code",
   "execution_count": 3,
   "id": "51f0d983",
   "metadata": {},
   "outputs": [],
   "source": [
    "pd.options.display.max_rows = 500\n",
    "pd.options.display.max_columns = 200"
   ]
  },
  {
   "cell_type": "markdown",
   "id": "7bdc5c1e",
   "metadata": {},
   "source": [
    "## Import data\n"
   ]
  },
  {
   "cell_type": "code",
   "execution_count": 4,
   "id": "b51d7503",
   "metadata": {},
   "outputs": [],
   "source": [
    "filepath = './data/04_dataset/Subject01_01.csv'"
   ]
  },
  {
   "cell_type": "code",
   "execution_count": 5,
   "id": "11b42520",
   "metadata": {},
   "outputs": [
    {
     "ename": "FileNotFoundError",
     "evalue": "[Errno 2] No such file or directory: './data/04_dataset/Subject01_01.csv'",
     "output_type": "error",
     "traceback": [
      "\u001b[1;31m---------------------------------------------------------------------------\u001b[0m",
      "\u001b[1;31mFileNotFoundError\u001b[0m                         Traceback (most recent call last)",
      "\u001b[1;32m<ipython-input-5-546fbb09f6f2>\u001b[0m in \u001b[0;36m<module>\u001b[1;34m\u001b[0m\n\u001b[0;32m      1\u001b[0m \u001b[0mdelimiter\u001b[0m \u001b[1;33m=\u001b[0m \u001b[1;34m'\\t'\u001b[0m\u001b[1;33m\u001b[0m\u001b[1;33m\u001b[0m\u001b[0m\n\u001b[1;32m----> 2\u001b[1;33m \u001b[0mmax_col\u001b[0m \u001b[1;33m=\u001b[0m \u001b[0mmax\u001b[0m\u001b[1;33m(\u001b[0m\u001b[0mopen\u001b[0m\u001b[1;33m(\u001b[0m\u001b[0mfilepath\u001b[0m\u001b[1;33m,\u001b[0m \u001b[1;34m'r'\u001b[0m\u001b[1;33m)\u001b[0m\u001b[1;33m,\u001b[0m \u001b[0mkey\u001b[0m \u001b[1;33m=\u001b[0m \u001b[1;32mlambda\u001b[0m \u001b[0mx\u001b[0m\u001b[1;33m:\u001b[0m \u001b[0mx\u001b[0m\u001b[1;33m.\u001b[0m\u001b[0mcount\u001b[0m\u001b[1;33m(\u001b[0m\u001b[0mdelimiter\u001b[0m\u001b[1;33m)\u001b[0m\u001b[1;33m)\u001b[0m\u001b[1;33m.\u001b[0m\u001b[0mcount\u001b[0m\u001b[1;33m(\u001b[0m\u001b[0mdelimiter\u001b[0m\u001b[1;33m)\u001b[0m\u001b[1;33m\u001b[0m\u001b[1;33m\u001b[0m\u001b[0m\n\u001b[0m\u001b[0;32m      3\u001b[0m \u001b[0mlines\u001b[0m\u001b[1;33m=\u001b[0m\u001b[0mpd\u001b[0m\u001b[1;33m.\u001b[0m\u001b[0mread_csv\u001b[0m\u001b[1;33m(\u001b[0m\u001b[0mfilepath\u001b[0m\u001b[1;33m,\u001b[0m\u001b[0msep\u001b[0m\u001b[1;33m=\u001b[0m\u001b[1;34m'\\t'\u001b[0m\u001b[1;33m,\u001b[0m\u001b[0mnames\u001b[0m\u001b[1;33m=\u001b[0m\u001b[0mrange\u001b[0m\u001b[1;33m(\u001b[0m\u001b[0mmax_col\u001b[0m\u001b[1;33m)\u001b[0m\u001b[1;33m)\u001b[0m\u001b[1;33m\u001b[0m\u001b[1;33m\u001b[0m\u001b[0m\n",
      "\u001b[1;31mFileNotFoundError\u001b[0m: [Errno 2] No such file or directory: './data/04_dataset/Subject01_01.csv'"
     ]
    }
   ],
   "source": [
    "delimiter = '\\t'\n",
    "max_col = max(open(filepath, 'r'), key = lambda x: x.count(delimiter)).count(delimiter)\n",
    "lines=pd.read_csv(filepath,sep='\\t',names=range(max_col))\n"
   ]
  },
  {
   "cell_type": "code",
   "execution_count": null,
   "id": "c7dd5db3",
   "metadata": {
    "scrolled": false
   },
   "outputs": [],
   "source": [
    "lines.head()"
   ]
  },
  {
   "cell_type": "markdown",
   "id": "cb912bb5",
   "metadata": {},
   "source": [
    "*segregate table*"
   ]
  },
  {
   "cell_type": "code",
   "execution_count": null,
   "id": "3bc4b924",
   "metadata": {},
   "outputs": [],
   "source": [
    "# 0:51 Gait cycle parameters\n",
    "# 52:658 Joints\n",
    "# 659:end Model outputs\n",
    "\n",
    "gait = lines.iloc[0:51]\n",
    "joints = lines.iloc[52:658]\n",
    "outputs = lines.iloc[659:]"
   ]
  },
  {
   "cell_type": "markdown",
   "id": "8f239113",
   "metadata": {},
   "source": [
    "### gait\n",
    "basic spatiotemporal parameters/ gait events"
   ]
  },
  {
   "cell_type": "code",
   "execution_count": null,
   "id": "62a32c56",
   "metadata": {},
   "outputs": [],
   "source": [
    "gait"
   ]
  },
  {
   "cell_type": "code",
   "execution_count": null,
   "id": "beddb7d3",
   "metadata": {},
   "outputs": [],
   "source": [
    "gait.dropna(axis=1, how='all',inplace=True)"
   ]
  },
  {
   "cell_type": "markdown",
   "id": "7f71d612",
   "metadata": {},
   "source": [
    "### joints\n"
   ]
  },
  {
   "cell_type": "code",
   "execution_count": null,
   "id": "9268df21",
   "metadata": {},
   "outputs": [],
   "source": [
    "# joints"
   ]
  },
  {
   "cell_type": "code",
   "execution_count": null,
   "id": "484b363d",
   "metadata": {},
   "outputs": [],
   "source": [
    "# joints.dropna(axis=1, how='all',inplace=True)"
   ]
  },
  {
   "cell_type": "markdown",
   "id": "e3a02238",
   "metadata": {},
   "source": [
    "### outputs\n",
    "joint kinematics and kinetics parameters"
   ]
  },
  {
   "cell_type": "code",
   "execution_count": null,
   "id": "e382da78",
   "metadata": {},
   "outputs": [],
   "source": [
    "outputs.dropna(axis=1, how='all',inplace=True)"
   ]
  },
  {
   "cell_type": "code",
   "execution_count": null,
   "id": "3e71e7b1",
   "metadata": {},
   "outputs": [],
   "source": [
    "outputs.head(10)"
   ]
  },
  {
   "cell_type": "markdown",
   "id": "6dfaf2ed",
   "metadata": {},
   "source": [
    "### demo\n",
    "demographics of the subjects\n",
    "<br> risk assessments based on SPPB test"
   ]
  },
  {
   "cell_type": "code",
   "execution_count": null,
   "id": "905d03a2",
   "metadata": {},
   "outputs": [],
   "source": [
    "demo = pd.read_excel('./data/01_demography_sppb_mmse.xlsx')\n",
    "demo = demo.iloc[:-2]"
   ]
  },
  {
   "cell_type": "code",
   "execution_count": null,
   "id": "2eef57e9",
   "metadata": {},
   "outputs": [],
   "source": [
    "demo.head()"
   ]
  },
  {
   "cell_type": "markdown",
   "id": "f2994f34",
   "metadata": {},
   "source": [
    "### anthropometry\n",
    "anthropometric measurements of subjects"
   ]
  },
  {
   "cell_type": "code",
   "execution_count": null,
   "id": "1fa71cf4",
   "metadata": {},
   "outputs": [],
   "source": [
    "anthrop = pd.read_excel('./data/02_anthropometry.xlsx', header=[0])\n",
    "anthrop = anthrop.iloc[:-2]\n",
    "anthrop = anthrop.iloc[: , :-3]"
   ]
  },
  {
   "cell_type": "code",
   "execution_count": null,
   "id": "e3fbad34",
   "metadata": {},
   "outputs": [],
   "source": [
    "anthrop\n"
   ]
  },
  {
   "cell_type": "markdown",
   "id": "739b7b29",
   "metadata": {},
   "source": [
    "### poma\n",
    "risk assessments based on POMA-G test"
   ]
  },
  {
   "cell_type": "code",
   "execution_count": null,
   "id": "ab261d4b",
   "metadata": {},
   "outputs": [],
   "source": [
    "poma = pd.read_excel('./data/03_poma_test.xlsx', header=[1])\n",
    "poma"
   ]
  },
  {
   "cell_type": "code",
   "execution_count": null,
   "id": "019c0c69",
   "metadata": {},
   "outputs": [],
   "source": []
  },
  {
   "cell_type": "code",
   "execution_count": null,
   "id": "46b1093e",
   "metadata": {},
   "outputs": [],
   "source": []
  },
  {
   "cell_type": "code",
   "execution_count": null,
   "id": "98de189f",
   "metadata": {},
   "outputs": [],
   "source": []
  },
  {
   "cell_type": "code",
   "execution_count": null,
   "id": "7287a68d",
   "metadata": {},
   "outputs": [],
   "source": []
  }
 ],
 "metadata": {
  "kernelspec": {
   "display_name": "Python 3",
   "language": "python",
   "name": "python3"
  },
  "language_info": {
   "codemirror_mode": {
    "name": "ipython",
    "version": 3
   },
   "file_extension": ".py",
   "mimetype": "text/x-python",
   "name": "python",
   "nbconvert_exporter": "python",
   "pygments_lexer": "ipython3",
   "version": "3.8.8"
  },
  "toc": {
   "base_numbering": 1,
   "nav_menu": {},
   "number_sections": true,
   "sideBar": true,
   "skip_h1_title": false,
   "title_cell": "Table of Contents",
   "title_sidebar": "Contents",
   "toc_cell": false,
   "toc_position": {},
   "toc_section_display": true,
   "toc_window_display": true
  }
 },
 "nbformat": 4,
 "nbformat_minor": 5
}
